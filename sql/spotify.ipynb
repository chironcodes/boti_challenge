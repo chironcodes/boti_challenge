{
 "cells": [
  {
   "cell_type": "code",
   "execution_count": 1,
   "metadata": {},
   "outputs": [],
   "source": []
  },
  {
   "cell_type": "code",
   "execution_count": 2,
   "metadata": {},
   "outputs": [
    {
     "data": {
      "text/plain": [
       "'BQAiJoVup1XA3vnh-WvjEyVCixp1fh_8vhkgkxNQhaHgLP9PrtnYwhCS7ra4p7Hl_y3wd1QLkoGx3OGEgrkA5h0ojF3xw8NV9-jUUJuBJ3HEQLDi_3E'"
      ]
     },
     "execution_count": 2,
     "metadata": {},
     "output_type": "execute_result"
    }
   ],
   "source": [
    "CLIENT_ID = '08506af3e8ed4ecbb83a0003885de79c'\n",
    "CLIENT_SECRET = '9cbb236e0625407b9d102c24de053856'\n",
    "token = get_spotify_bearer_token(CLIENT_ID, CLIENT_SECRET)\n",
    "token"
   ]
  },
  {
   "cell_type": "code",
   "execution_count": 3,
   "metadata": {},
   "outputs": [],
   "source": [
    "import requests\n",
    "def get_spotify_bearer_token(client_id:str, client_secret:str) -> str:\n",
    "    try:\n",
    "        url = \"https://accounts.spotify.com/api/token\"\n",
    "        headers = {\n",
    "            \"Content-Type\": \"application/x-www-form-urlencoded\"\n",
    "        }\n",
    "        data = {\n",
    "            \"grant_type\": \"client_credentials\",\n",
    "            \"client_id\": client_id,\n",
    "            \"client_secret\": client_secret\n",
    "        }\n",
    "\n",
    "        response = requests.post(url, headers=headers, data=data)\n",
    "        response_data = response.json()\n",
    "\n",
    "    \n",
    "        return response_data[\"access_token\"]\n",
    "    \n",
    "    except Exception as err:\n",
    "        print(f\"err {err=}\")\n"
   ]
  },
  {
   "cell_type": "code",
   "execution_count": null,
   "metadata": {},
   "outputs": [],
   "source": [
    "def get_spotify_spotify_episodes(query:str, auth_token, market='BR', limit=50) -> str:\n",
    "    try:\n",
    "        url = \"https://api.spotify.com/v1/search\"\n",
    "        headers = {\n",
    "            'Authorization': f'Bearer {token}'\n",
    "        }\n",
    "        response = requests.get(url, headers=headers)\n",
    "        data = response.json()\n",
    "\n",
    "        return data\n",
    "    \n",
    "    except Exception as err:\n",
    "        print(f\"err {err=}\")"
   ]
  },
  {
   "cell_type": "code",
   "execution_count": null,
   "metadata": {},
   "outputs": [],
   "source": [
    "result = "
   ]
  }
 ],
 "metadata": {
  "kernelspec": {
   "display_name": ".venv",
   "language": "python",
   "name": "python3"
  },
  "language_info": {
   "codemirror_mode": {
    "name": "ipython",
    "version": 3
   },
   "file_extension": ".py",
   "mimetype": "text/x-python",
   "name": "python",
   "nbconvert_exporter": "python",
   "pygments_lexer": "ipython3",
   "version": "3.10.0"
  },
  "orig_nbformat": 4
 },
 "nbformat": 4,
 "nbformat_minor": 2
}
